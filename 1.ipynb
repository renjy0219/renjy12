{
 "cells": [
  {
   "cell_type": "code",
   "execution_count": 1,
   "id": "9d3a4fc4-cf42-4e33-b466-e185a64534b1",
   "metadata": {},
   "outputs": [
    {
     "name": "stdout",
     "output_type": "stream",
     "text": [
      "Traceback (most recent call last):\n",
      "  File \"/environment/miniconda3/bin/featurize\", line 8, in <module>\n",
      "    sys.exit(cli())\n",
      "  File \"/environment/miniconda3/lib/python3.10/site-packages/click/core.py\", line 1157, in __call__\n",
      "    return self.main(*args, **kwargs)\n",
      "  File \"/environment/miniconda3/lib/python3.10/site-packages/click/core.py\", line 1078, in main\n",
      "    rv = self.invoke(ctx)\n",
      "  File \"/environment/miniconda3/lib/python3.10/site-packages/click/core.py\", line 1688, in invoke\n",
      "    return _process_result(sub_ctx.command.invoke(sub_ctx))\n",
      "  File \"/environment/miniconda3/lib/python3.10/site-packages/click/core.py\", line 1688, in invoke\n",
      "    return _process_result(sub_ctx.command.invoke(sub_ctx))\n",
      "  File \"/environment/miniconda3/lib/python3.10/site-packages/click/core.py\", line 1434, in invoke\n",
      "    return ctx.invoke(self.callback, **ctx.params)\n",
      "  File \"/environment/miniconda3/lib/python3.10/site-packages/click/core.py\", line 783, in invoke\n",
      "    return __callback(*args, **kwargs)\n",
      "  File \"/environment/miniconda3/lib/python3.10/site-packages/featurize/cli.py\", line 184, in download\n",
      "    client.dataset.download(dataset_id=str(id))\n",
      "  File \"/environment/miniconda3/lib/python3.10/site-packages/featurize/resource.py\", line 163, in download\n",
      "    dataset = self._http(f\"/datasets/{dataset_id}\")\n",
      "  File \"/environment/miniconda3/lib/python3.10/site-packages/featurize/resource.py\", line 69, in _http\n",
      "    raise HTTPCodeError(req.status_code, req.json())\n",
      "featurize.resource.HTTPCodeError: HTTP request failed with code: 404, body: {'status': 404, 'message': '未找到该记录', 'data': None}\n"
     ]
    }
   ],
   "source": [
    "!featurize dataset download 910888ea-f616-4cd9-bfd1-4acc754d6fae"
   ]
  },
  {
   "cell_type": "code",
   "execution_count": 2,
   "id": "ab0e7afa-d547-49e3-9457-7e01cc76321d",
   "metadata": {
    "tags": []
   },
   "outputs": [
    {
     "name": "stdout",
     "output_type": "stream",
     "text": [
      "Looking in indexes: https://pypi.tuna.tsinghua.edu.cn/simple\n",
      "Requirement already satisfied: fastai in /environment/miniconda3/lib/python3.10/site-packages (2.7.15)\n",
      "Requirement already satisfied: pip in /environment/miniconda3/lib/python3.10/site-packages (from fastai) (23.1.2)\n",
      "Requirement already satisfied: packaging in /environment/miniconda3/lib/python3.10/site-packages (from fastai) (23.0)\n",
      "Requirement already satisfied: fastdownload<2,>=0.0.5 in /environment/miniconda3/lib/python3.10/site-packages (from fastai) (0.0.7)\n",
      "Requirement already satisfied: fastcore<1.6,>=1.5.29 in /environment/miniconda3/lib/python3.10/site-packages (from fastai) (1.5.45)\n",
      "Requirement already satisfied: torchvision>=0.11 in /environment/miniconda3/lib/python3.10/site-packages (from fastai) (0.15.2+cu118)\n",
      "Requirement already satisfied: matplotlib in /environment/miniconda3/lib/python3.10/site-packages (from fastai) (3.8.1)\n",
      "Requirement already satisfied: pandas in /environment/miniconda3/lib/python3.10/site-packages (from fastai) (2.1.2)\n",
      "Requirement already satisfied: requests in /environment/miniconda3/lib/python3.10/site-packages (from fastai) (2.31.0)\n",
      "Requirement already satisfied: pyyaml in /environment/miniconda3/lib/python3.10/site-packages (from fastai) (6.0.1)\n",
      "Requirement already satisfied: fastprogress>=0.2.4 in /environment/miniconda3/lib/python3.10/site-packages (from fastai) (1.0.3)\n",
      "Requirement already satisfied: pillow>=9.0.0 in /environment/miniconda3/lib/python3.10/site-packages (from fastai) (9.3.0)\n",
      "Requirement already satisfied: scikit-learn in /environment/miniconda3/lib/python3.10/site-packages (from fastai) (1.3.2)\n",
      "Requirement already satisfied: scipy in /environment/miniconda3/lib/python3.10/site-packages (from fastai) (1.11.3)\n",
      "Requirement already satisfied: spacy<4 in /environment/miniconda3/lib/python3.10/site-packages (from fastai) (3.7.5)\n",
      "Requirement already satisfied: torch<2.4,>=1.10 in /environment/miniconda3/lib/python3.10/site-packages (from fastai) (2.0.1+cu118)\n",
      "Requirement already satisfied: spacy-legacy<3.1.0,>=3.0.11 in /environment/miniconda3/lib/python3.10/site-packages (from spacy<4->fastai) (3.0.12)\n",
      "Requirement already satisfied: spacy-loggers<2.0.0,>=1.0.0 in /environment/miniconda3/lib/python3.10/site-packages (from spacy<4->fastai) (1.0.5)\n",
      "Requirement already satisfied: murmurhash<1.1.0,>=0.28.0 in /environment/miniconda3/lib/python3.10/site-packages (from spacy<4->fastai) (1.0.10)\n",
      "Requirement already satisfied: cymem<2.1.0,>=2.0.2 in /environment/miniconda3/lib/python3.10/site-packages (from spacy<4->fastai) (2.0.8)\n",
      "Requirement already satisfied: preshed<3.1.0,>=3.0.2 in /environment/miniconda3/lib/python3.10/site-packages (from spacy<4->fastai) (3.0.9)\n",
      "Requirement already satisfied: thinc<8.3.0,>=8.2.2 in /environment/miniconda3/lib/python3.10/site-packages (from spacy<4->fastai) (8.2.4)\n",
      "Requirement already satisfied: wasabi<1.2.0,>=0.9.1 in /environment/miniconda3/lib/python3.10/site-packages (from spacy<4->fastai) (1.1.3)\n",
      "Requirement already satisfied: srsly<3.0.0,>=2.4.3 in /environment/miniconda3/lib/python3.10/site-packages (from spacy<4->fastai) (2.4.8)\n",
      "Requirement already satisfied: catalogue<2.1.0,>=2.0.6 in /environment/miniconda3/lib/python3.10/site-packages (from spacy<4->fastai) (2.0.10)\n",
      "Requirement already satisfied: weasel<0.5.0,>=0.1.0 in /environment/miniconda3/lib/python3.10/site-packages (from spacy<4->fastai) (0.4.1)\n",
      "Requirement already satisfied: typer<1.0.0,>=0.3.0 in /environment/miniconda3/lib/python3.10/site-packages (from spacy<4->fastai) (0.12.3)\n",
      "Requirement already satisfied: tqdm<5.0.0,>=4.38.0 in /environment/miniconda3/lib/python3.10/site-packages (from spacy<4->fastai) (4.65.0)\n",
      "Requirement already satisfied: pydantic!=1.8,!=1.8.1,<3.0.0,>=1.7.4 in /environment/miniconda3/lib/python3.10/site-packages (from spacy<4->fastai) (2.4.2)\n",
      "Requirement already satisfied: jinja2 in /environment/miniconda3/lib/python3.10/site-packages (from spacy<4->fastai) (3.1.2)\n",
      "Requirement already satisfied: setuptools in /environment/miniconda3/lib/python3.10/site-packages (from spacy<4->fastai) (67.8.0)\n",
      "Requirement already satisfied: langcodes<4.0.0,>=3.2.0 in /environment/miniconda3/lib/python3.10/site-packages (from spacy<4->fastai) (3.4.0)\n",
      "Requirement already satisfied: numpy>=1.19.0 in /environment/miniconda3/lib/python3.10/site-packages (from spacy<4->fastai) (1.24.1)\n",
      "Requirement already satisfied: charset-normalizer<4,>=2 in /environment/miniconda3/lib/python3.10/site-packages (from requests->fastai) (2.0.4)\n",
      "Requirement already satisfied: idna<4,>=2.5 in /environment/miniconda3/lib/python3.10/site-packages (from requests->fastai) (2.10)\n",
      "Requirement already satisfied: urllib3<3,>=1.21.1 in /environment/miniconda3/lib/python3.10/site-packages (from requests->fastai) (1.25.11)\n",
      "Requirement already satisfied: certifi>=2017.4.17 in /environment/miniconda3/lib/python3.10/site-packages (from requests->fastai) (2023.7.22)\n",
      "Requirement already satisfied: filelock in /environment/miniconda3/lib/python3.10/site-packages (from torch<2.4,>=1.10->fastai) (3.9.0)\n",
      "Requirement already satisfied: typing-extensions in /environment/miniconda3/lib/python3.10/site-packages (from torch<2.4,>=1.10->fastai) (4.8.0)\n",
      "Requirement already satisfied: sympy in /environment/miniconda3/lib/python3.10/site-packages (from torch<2.4,>=1.10->fastai) (1.11.1)\n",
      "Requirement already satisfied: networkx in /environment/miniconda3/lib/python3.10/site-packages (from torch<2.4,>=1.10->fastai) (3.0)\n",
      "Requirement already satisfied: triton==2.0.0 in /environment/miniconda3/lib/python3.10/site-packages (from torch<2.4,>=1.10->fastai) (2.0.0)\n",
      "Requirement already satisfied: cmake in /environment/miniconda3/lib/python3.10/site-packages (from triton==2.0.0->torch<2.4,>=1.10->fastai) (3.25.0)\n",
      "Requirement already satisfied: lit in /environment/miniconda3/lib/python3.10/site-packages (from triton==2.0.0->torch<2.4,>=1.10->fastai) (15.0.7)\n",
      "Requirement already satisfied: contourpy>=1.0.1 in /environment/miniconda3/lib/python3.10/site-packages (from matplotlib->fastai) (1.2.0)\n",
      "Requirement already satisfied: cycler>=0.10 in /environment/miniconda3/lib/python3.10/site-packages (from matplotlib->fastai) (0.12.1)\n",
      "Requirement already satisfied: fonttools>=4.22.0 in /environment/miniconda3/lib/python3.10/site-packages (from matplotlib->fastai) (4.44.0)\n",
      "Requirement already satisfied: kiwisolver>=1.3.1 in /environment/miniconda3/lib/python3.10/site-packages (from matplotlib->fastai) (1.4.5)\n",
      "Requirement already satisfied: pyparsing>=2.3.1 in /environment/miniconda3/lib/python3.10/site-packages (from matplotlib->fastai) (3.1.1)\n",
      "Requirement already satisfied: python-dateutil>=2.7 in /environment/miniconda3/lib/python3.10/site-packages (from matplotlib->fastai) (2.8.2)\n",
      "Requirement already satisfied: pytz>=2020.1 in /environment/miniconda3/lib/python3.10/site-packages (from pandas->fastai) (2023.3.post1)\n",
      "Requirement already satisfied: tzdata>=2022.1 in /environment/miniconda3/lib/python3.10/site-packages (from pandas->fastai) (2023.3)\n",
      "Requirement already satisfied: joblib>=1.1.1 in /environment/miniconda3/lib/python3.10/site-packages (from scikit-learn->fastai) (1.3.2)\n",
      "Requirement already satisfied: threadpoolctl>=2.0.0 in /environment/miniconda3/lib/python3.10/site-packages (from scikit-learn->fastai) (3.2.0)\n",
      "Requirement already satisfied: language-data>=1.2 in /environment/miniconda3/lib/python3.10/site-packages (from langcodes<4.0.0,>=3.2.0->spacy<4->fastai) (1.2.0)\n",
      "Requirement already satisfied: annotated-types>=0.4.0 in /environment/miniconda3/lib/python3.10/site-packages (from pydantic!=1.8,!=1.8.1,<3.0.0,>=1.7.4->spacy<4->fastai) (0.6.0)\n",
      "Requirement already satisfied: pydantic-core==2.10.1 in /environment/miniconda3/lib/python3.10/site-packages (from pydantic!=1.8,!=1.8.1,<3.0.0,>=1.7.4->spacy<4->fastai) (2.10.1)\n",
      "Requirement already satisfied: six>=1.5 in /environment/miniconda3/lib/python3.10/site-packages (from python-dateutil>=2.7->matplotlib->fastai) (1.16.0)\n",
      "Requirement already satisfied: blis<0.8.0,>=0.7.8 in /environment/miniconda3/lib/python3.10/site-packages (from thinc<8.3.0,>=8.2.2->spacy<4->fastai) (0.7.11)\n",
      "Requirement already satisfied: confection<1.0.0,>=0.0.1 in /environment/miniconda3/lib/python3.10/site-packages (from thinc<8.3.0,>=8.2.2->spacy<4->fastai) (0.1.5)\n",
      "Requirement already satisfied: click>=8.0.0 in /environment/miniconda3/lib/python3.10/site-packages (from typer<1.0.0,>=0.3.0->spacy<4->fastai) (8.1.7)\n",
      "Requirement already satisfied: shellingham>=1.3.0 in /environment/miniconda3/lib/python3.10/site-packages (from typer<1.0.0,>=0.3.0->spacy<4->fastai) (1.5.4)\n",
      "Requirement already satisfied: rich>=10.11.0 in /environment/miniconda3/lib/python3.10/site-packages (from typer<1.0.0,>=0.3.0->spacy<4->fastai) (13.7.1)\n",
      "Requirement already satisfied: cloudpathlib<1.0.0,>=0.7.0 in /environment/miniconda3/lib/python3.10/site-packages (from weasel<0.5.0,>=0.1.0->spacy<4->fastai) (0.18.1)\n",
      "Requirement already satisfied: smart-open<8.0.0,>=5.2.1 in /environment/miniconda3/lib/python3.10/site-packages (from weasel<0.5.0,>=0.1.0->spacy<4->fastai) (7.0.4)\n",
      "Requirement already satisfied: MarkupSafe>=2.0 in /environment/miniconda3/lib/python3.10/site-packages (from jinja2->spacy<4->fastai) (2.1.2)\n",
      "Requirement already satisfied: mpmath>=0.19 in /environment/miniconda3/lib/python3.10/site-packages (from sympy->torch<2.4,>=1.10->fastai) (1.2.1)\n",
      "Requirement already satisfied: marisa-trie>=0.7.7 in /environment/miniconda3/lib/python3.10/site-packages (from language-data>=1.2->langcodes<4.0.0,>=3.2.0->spacy<4->fastai) (1.2.0)\n",
      "Requirement already satisfied: markdown-it-py>=2.2.0 in /environment/miniconda3/lib/python3.10/site-packages (from rich>=10.11.0->typer<1.0.0,>=0.3.0->spacy<4->fastai) (3.0.0)\n",
      "Requirement already satisfied: pygments<3.0.0,>=2.13.0 in /environment/miniconda3/lib/python3.10/site-packages (from rich>=10.11.0->typer<1.0.0,>=0.3.0->spacy<4->fastai) (2.15.1)\n",
      "Requirement already satisfied: wrapt in /environment/miniconda3/lib/python3.10/site-packages (from smart-open<8.0.0,>=5.2.1->weasel<0.5.0,>=0.1.0->spacy<4->fastai) (1.15.0)\n",
      "Requirement already satisfied: mdurl~=0.1 in /environment/miniconda3/lib/python3.10/site-packages (from markdown-it-py>=2.2.0->rich>=10.11.0->typer<1.0.0,>=0.3.0->spacy<4->fastai) (0.1.2)\n"
     ]
    }
   ],
   "source": [
    "!pip install fastai"
   ]
  },
  {
   "cell_type": "code",
   "execution_count": 3,
   "id": "c4af4ede-a976-4149-815e-403aaa5c3164",
   "metadata": {
    "tags": []
   },
   "outputs": [
    {
     "name": "stdout",
     "output_type": "stream",
     "text": [
      "Looking in indexes: https://pypi.tuna.tsinghua.edu.cn/simple\n",
      "Requirement already satisfied: openpyxl in /environment/miniconda3/lib/python3.10/site-packages (3.1.4)\n",
      "Requirement already satisfied: et-xmlfile in /environment/miniconda3/lib/python3.10/site-packages (from openpyxl) (1.1.0)\n"
     ]
    }
   ],
   "source": [
    "!pip install openpyxl"
   ]
  },
  {
   "cell_type": "code",
   "execution_count": 4,
   "id": "688b349b-04fd-4f29-b2a5-05804d2b95ad",
   "metadata": {},
   "outputs": [],
   "source": [
    "from fastai.tabular.all import *\n",
    "from fastai.collab import *\n",
    "from sklearn.metrics import mean_absolute_error, mean_squared_error"
   ]
  },
  {
   "cell_type": "code",
   "execution_count": 5,
   "id": "c8457d20-07d3-43a2-814c-9485c22059db",
   "metadata": {},
   "outputs": [
    {
     "name": "stdout",
     "output_type": "stream",
     "text": [
      "使用的设备: cpu\n"
     ]
    }
   ],
   "source": [
    "# 设置设备，优先使用 MPS，其次 CUDA，最后 CPU\n",
    "device = torch.device('mps') if torch.backends.mps.is_available() else (\n",
    "    torch.device('cuda') if torch.cuda.is_available() else torch.device('cpu')\n",
    ")\n",
    "print(f\"使用的设备: {device}\")"
   ]
  },
  {
   "cell_type": "code",
   "execution_count": 6,
   "id": "7ed769ed-d46a-43b6-b1a7-6dca9562481d",
   "metadata": {},
   "outputs": [],
   "source": [
    "# Load the data\n",
    "data_df = pd.read_excel('/home/featurize/[final] April 2015 to Nov 30 2019 - Transformed Jester Data - .xlsx')\n",
    "  "
   ]
  },
  {
   "cell_type": "code",
   "execution_count": 7,
   "id": "a172dc1f-4cd4-48e5-bd73-fea77ab6785f",
   "metadata": {},
   "outputs": [],
   "source": [
    "data_df = pd.DataFrame(data_df)"
   ]
  },
  {
   "cell_type": "code",
   "execution_count": 8,
   "id": "aad2d983-6481-4566-8116-fc6cdc124d71",
   "metadata": {},
   "outputs": [
    {
     "name": "stdout",
     "output_type": "stream",
     "text": [
      "   user_id  joke_id  rating\n",
      "0        1        1    1.00\n",
      "1        1       73    8.21\n",
      "2        2        1    4.00\n",
      "3        2       20   -5.98\n",
      "4        2       36   -4.47\n"
     ]
    }
   ],
   "source": [
    "import pandas as pd  \n",
    "\n",
    "# 初始化转换后的数据列表  \n",
    "transformed_data = []  \n",
    "  \n",
    "# 遍历每个用户和每个笑话  \n",
    "for user_id, row in data_df.iterrows():  \n",
    "    for joke_id, rating in enumerate(row, start=1):  # 使用enumerate来获取索引作为joke_id  \n",
    "        if rating != 99:  \n",
    "            transformed_data.append([user_id + 1, joke_id, rating])  # 用户ID和joke_id偏移+1（如果需要）  \n",
    "  \n",
    "# 将列表转换为DataFrame  \n",
    "long_df = pd.DataFrame(transformed_data, columns=['user_id', 'joke_id', 'rating'])  \n",
    "  \n",
    "# 显示前几行以验证结果  \n",
    "print(long_df.head())"
   ]
  },
  {
   "cell_type": "code",
   "execution_count": 9,
   "id": "25fc7262-d6e3-4aac-811e-5f01107dc2ce",
   "metadata": {},
   "outputs": [],
   "source": [
    "# Load the jokes\n",
    "jokes_df = pd.read_excel('/home/featurize/Dataset4JokeSet.xlsx')"
   ]
  },
  {
   "cell_type": "code",
   "execution_count": 10,
   "id": "009ebbe8-39b2-4b5d-9da4-62a982b49e1f",
   "metadata": {},
   "outputs": [],
   "source": [
    "# 正文列增加列名joke\n",
    "jokes_df.columns = ['joke']"
   ]
  },
  {
   "cell_type": "code",
   "execution_count": 11,
   "id": "2cfecfb3-a2cb-462b-99c9-9b7b0e5ddd5a",
   "metadata": {},
   "outputs": [],
   "source": [
    "#将jokes_df中的索引定义为joke_id\n",
    "jokes_df = jokes_df.rename_axis('joke_id').reset_index()"
   ]
  },
  {
   "cell_type": "code",
   "execution_count": 12,
   "id": "f3fb2c7f-f999-42f6-87bd-4aefd062be9a",
   "metadata": {},
   "outputs": [
    {
     "data": {
      "text/html": [
       "<div>\n",
       "<style scoped>\n",
       "    .dataframe tbody tr th:only-of-type {\n",
       "        vertical-align: middle;\n",
       "    }\n",
       "\n",
       "    .dataframe tbody tr th {\n",
       "        vertical-align: top;\n",
       "    }\n",
       "\n",
       "    .dataframe thead th {\n",
       "        text-align: right;\n",
       "    }\n",
       "</style>\n",
       "<table border=\"1\" class=\"dataframe\">\n",
       "  <thead>\n",
       "    <tr style=\"text-align: right;\">\n",
       "      <th></th>\n",
       "      <th>joke_id</th>\n",
       "      <th>joke</th>\n",
       "    </tr>\n",
       "  </thead>\n",
       "  <tbody>\n",
       "    <tr>\n",
       "      <th>0</th>\n",
       "      <td>0</td>\n",
       "      <td>This couple had an excellent relationship going until one day he came home from work to find his girlfriend packing. He asked her why she was leaving him and she told him that she had heard awful things about him.   \"What could they possibly have said to make you move out?\"   \"They told me that you were a pedophile.\"   He replied, \"That's an awfully big word for a ten year old.\"</td>\n",
       "    </tr>\n",
       "    <tr>\n",
       "      <th>1</th>\n",
       "      <td>1</td>\n",
       "      <td>Q. What's 200 feet long and has 4 teeth?   A. The front row at a Willie Nelson Concert.</td>\n",
       "    </tr>\n",
       "    <tr>\n",
       "      <th>2</th>\n",
       "      <td>2</td>\n",
       "      <td>Q. What's the difference between a man and a toilet?   A. A toilet doesn't follow you around after you use it.</td>\n",
       "    </tr>\n",
       "    <tr>\n",
       "      <th>3</th>\n",
       "      <td>3</td>\n",
       "      <td>Q.\\tWhat's O. J. Simpson's Internet address?  A.\\tSlash, slash, backslash, slash, slash, escape.</td>\n",
       "    </tr>\n",
       "    <tr>\n",
       "      <th>4</th>\n",
       "      <td>4</td>\n",
       "      <td>Bill &amp; Hillary are on a trip back to Arkansas. They're almost out of gas, so Bill pulls into a service station on the outskirts of town. The attendant runs out of the station to serve them when Hillary realizes it's an old boyfriend from high school. She and the attendant chat as he gases up their car and cleans the windows. Then they all say good-bye.   As Bill pulls the car onto the road, he turns to Hillary and says, 'Now aren't you glad you married me and not him ? You could've been the wife of a grease monkey !'   To which Hillary replied, 'No, Bill. If I would have married him, you'd...</td>\n",
       "    </tr>\n",
       "  </tbody>\n",
       "</table>\n",
       "</div>"
      ],
      "text/plain": [
       "   joke_id  \\\n",
       "0        0   \n",
       "1        1   \n",
       "2        2   \n",
       "3        3   \n",
       "4        4   \n",
       "\n",
       "                                                                                                                                                                                                                                                                                                                                                                                                                                                                                                                                                                                                                      joke  \n",
       "0                                                                                                                                                                                                                            This couple had an excellent relationship going until one day he came home from work to find his girlfriend packing. He asked her why she was leaving him and she told him that she had heard awful things about him.   \"What could they possibly have said to make you move out?\"   \"They told me that you were a pedophile.\"   He replied, \"That's an awfully big word for a ten year old.\"  \n",
       "1                                                                                                                                                                                                                                                                                                                                                                                                                                                                                                                                  Q. What's 200 feet long and has 4 teeth?   A. The front row at a Willie Nelson Concert.  \n",
       "2                                                                                                                                                                                                                                                                                                                                                                                                                                                                                                           Q. What's the difference between a man and a toilet?   A. A toilet doesn't follow you around after you use it.  \n",
       "3                                                                                                                                                                                                                                                                                                                                                                                                                                                                                                                         Q.\\tWhat's O. J. Simpson's Internet address?  A.\\tSlash, slash, backslash, slash, slash, escape.  \n",
       "4  Bill & Hillary are on a trip back to Arkansas. They're almost out of gas, so Bill pulls into a service station on the outskirts of town. The attendant runs out of the station to serve them when Hillary realizes it's an old boyfriend from high school. She and the attendant chat as he gases up their car and cleans the windows. Then they all say good-bye.   As Bill pulls the car onto the road, he turns to Hillary and says, 'Now aren't you glad you married me and not him ? You could've been the wife of a grease monkey !'   To which Hillary replied, 'No, Bill. If I would have married him, you'd...  "
      ]
     },
     "execution_count": 12,
     "metadata": {},
     "output_type": "execute_result"
    }
   ],
   "source": [
    "#完成实验步骤中对数据集操作后执行\n",
    "jokes_df.head()"
   ]
  },
  {
   "cell_type": "code",
   "execution_count": 13,
   "id": "2b18dea2-ea25-4ae7-b506-d10b88a61900",
   "metadata": {},
   "outputs": [],
   "source": [
    "long_df = long_df.merge(jokes_df)"
   ]
  },
  {
   "cell_type": "code",
   "execution_count": 14,
   "id": "555f9123-15a1-4854-9cd3-a03a5050d47c",
   "metadata": {},
   "outputs": [],
   "source": [
    "ratings=long_df"
   ]
  },
  {
   "cell_type": "code",
   "execution_count": 15,
   "id": "0845450c-449c-4dd0-b6c8-30191cef947b",
   "metadata": {},
   "outputs": [],
   "source": [
    "# 根据时间戳划分训练集和测试集\n",
    "split_timestamp = ratings['user_id'].quantile(0.9)  # 按时间戳的90%分位数划分\n",
    "train_ratings = ratings[ratings['user_id'] <= split_timestamp]\n",
    "test_ratings = ratings[ratings['user_id'] > split_timestamp]"
   ]
  },
  {
   "cell_type": "code",
   "execution_count": 16,
   "id": "9d956269-b69e-4aef-96ea-fe6473bfa4ee",
   "metadata": {},
   "outputs": [],
   "source": [
    "# 创建数据加载器\n",
    "dls =CollabDataLoaders.from_df(train_ratings,item_name='joke',bs=64,device=device)"
   ]
  },
  {
   "cell_type": "code",
   "execution_count": 17,
   "id": "a05b7a3b-2f02-49c8-8e9a-cfafc901ed32",
   "metadata": {},
   "outputs": [],
   "source": [
    "# 训练模型\n",
    "learn = collab_learner(dls,n_factors=50,y_range=(0,5.5))\n",
    "learn.model.to(device)  # 将模型移动到指定设备\n",
    "learn.dls.device = device  # 将数据加载器的设备设为指定设备"
   ]
  },
  {
   "cell_type": "code",
   "execution_count": 18,
   "id": "7892003e-fa2e-4742-9d0c-b05f4d4fd5f6",
   "metadata": {},
   "outputs": [],
   "source": [
    "# 添加早停和保存最佳模型的回调\n",
    "callbacks = [\n",
    "    EarlyStoppingCallback(monitor='valid_loss', patience=3),\n",
    "    SaveModelCallback(monitor='valid_loss', fname='best_model')\n",
    "]"
   ]
  },
  {
   "cell_type": "code",
   "execution_count": 19,
   "id": "783249e3-0488-4c12-b9ca-638f35cd1625",
   "metadata": {},
   "outputs": [
    {
     "data": {
      "text/html": [
       "\n",
       "<style>\n",
       "    /* Turns off some styling */\n",
       "    progress {\n",
       "        /* gets rid of default border in Firefox and Opera. */\n",
       "        border: none;\n",
       "        /* Needs to be in here for Safari polyfill so background images work as expected. */\n",
       "        background-size: auto;\n",
       "    }\n",
       "    progress:not([value]), progress:not([value])::-webkit-progress-bar {\n",
       "        background: repeating-linear-gradient(45deg, #7e7e7e, #7e7e7e 10px, #5c5c5c 10px, #5c5c5c 20px);\n",
       "    }\n",
       "    .progress-bar-interrupted, .progress-bar-interrupted::-webkit-progress-bar {\n",
       "        background: #F44336;\n",
       "    }\n",
       "</style>\n"
      ],
      "text/plain": [
       "<IPython.core.display.HTML object>"
      ]
     },
     "metadata": {},
     "output_type": "display_data"
    },
    {
     "data": {
      "text/html": [
       "<table border=\"1\" class=\"dataframe\">\n",
       "  <thead>\n",
       "    <tr style=\"text-align: left;\">\n",
       "      <th>epoch</th>\n",
       "      <th>train_loss</th>\n",
       "      <th>valid_loss</th>\n",
       "      <th>time</th>\n",
       "    </tr>\n",
       "  </thead>\n",
       "  <tbody>\n",
       "    <tr>\n",
       "      <td>0</td>\n",
       "      <td>80.397575</td>\n",
       "      <td>72.491890</td>\n",
       "      <td>00:06</td>\n",
       "    </tr>\n",
       "    <tr>\n",
       "      <td>1</td>\n",
       "      <td>70.632263</td>\n",
       "      <td>70.534599</td>\n",
       "      <td>00:07</td>\n",
       "    </tr>\n",
       "    <tr>\n",
       "      <td>2</td>\n",
       "      <td>62.153793</td>\n",
       "      <td>67.441132</td>\n",
       "      <td>00:12</td>\n",
       "    </tr>\n",
       "    <tr>\n",
       "      <td>3</td>\n",
       "      <td>67.255531</td>\n",
       "      <td>65.095367</td>\n",
       "      <td>00:07</td>\n",
       "    </tr>\n",
       "    <tr>\n",
       "      <td>4</td>\n",
       "      <td>62.823341</td>\n",
       "      <td>64.165207</td>\n",
       "      <td>00:08</td>\n",
       "    </tr>\n",
       "    <tr>\n",
       "      <td>5</td>\n",
       "      <td>44.327236</td>\n",
       "      <td>63.732475</td>\n",
       "      <td>00:08</td>\n",
       "    </tr>\n",
       "    <tr>\n",
       "      <td>6</td>\n",
       "      <td>55.336819</td>\n",
       "      <td>63.497631</td>\n",
       "      <td>00:08</td>\n",
       "    </tr>\n",
       "    <tr>\n",
       "      <td>7</td>\n",
       "      <td>55.621796</td>\n",
       "      <td>63.342648</td>\n",
       "      <td>00:07</td>\n",
       "    </tr>\n",
       "    <tr>\n",
       "      <td>8</td>\n",
       "      <td>58.846794</td>\n",
       "      <td>63.228546</td>\n",
       "      <td>00:08</td>\n",
       "    </tr>\n",
       "    <tr>\n",
       "      <td>9</td>\n",
       "      <td>48.166088</td>\n",
       "      <td>63.231628</td>\n",
       "      <td>00:26</td>\n",
       "    </tr>\n",
       "    <tr>\n",
       "      <td>10</td>\n",
       "      <td>67.191330</td>\n",
       "      <td>63.264935</td>\n",
       "      <td>00:05</td>\n",
       "    </tr>\n",
       "    <tr>\n",
       "      <td>11</td>\n",
       "      <td>54.511322</td>\n",
       "      <td>63.271782</td>\n",
       "      <td>00:07</td>\n",
       "    </tr>\n",
       "  </tbody>\n",
       "</table>"
      ],
      "text/plain": [
       "<IPython.core.display.HTML object>"
      ]
     },
     "metadata": {},
     "output_type": "display_data"
    },
    {
     "name": "stdout",
     "output_type": "stream",
     "text": [
      "Better model found at epoch 0 with valid_loss value: 72.49188995361328.\n",
      "Better model found at epoch 1 with valid_loss value: 70.53459930419922.\n",
      "Better model found at epoch 2 with valid_loss value: 67.44113159179688.\n",
      "Better model found at epoch 3 with valid_loss value: 65.09536743164062.\n",
      "Better model found at epoch 4 with valid_loss value: 64.16520690917969.\n",
      "Better model found at epoch 5 with valid_loss value: 63.73247528076172.\n",
      "Better model found at epoch 6 with valid_loss value: 63.49763107299805.\n",
      "Better model found at epoch 7 with valid_loss value: 63.342647552490234.\n",
      "Better model found at epoch 8 with valid_loss value: 63.228546142578125.\n",
      "No improvement since epoch 8: early stopping\n"
     ]
    }
   ],
   "source": [
    "learn.fit_one_cycle(100,5e-3,wd=0.1,cbs=callbacks)"
   ]
  },
  {
   "cell_type": "code",
   "execution_count": 20,
   "id": "ded085c7-1111-40e1-beaa-1ac369451d2e",
   "metadata": {},
   "outputs": [
    {
     "data": {
      "text/html": [
       "\n",
       "<style>\n",
       "    /* Turns off some styling */\n",
       "    progress {\n",
       "        /* gets rid of default border in Firefox and Opera. */\n",
       "        border: none;\n",
       "        /* Needs to be in here for Safari polyfill so background images work as expected. */\n",
       "        background-size: auto;\n",
       "    }\n",
       "    progress:not([value]), progress:not([value])::-webkit-progress-bar {\n",
       "        background: repeating-linear-gradient(45deg, #7e7e7e, #7e7e7e 10px, #5c5c5c 10px, #5c5c5c 20px);\n",
       "    }\n",
       "    .progress-bar-interrupted, .progress-bar-interrupted::-webkit-progress-bar {\n",
       "        background: #F44336;\n",
       "    }\n",
       "</style>\n"
      ],
      "text/plain": [
       "<IPython.core.display.HTML object>"
      ]
     },
     "metadata": {},
     "output_type": "display_data"
    },
    {
     "data": {
      "text/html": [],
      "text/plain": [
       "<IPython.core.display.HTML object>"
      ]
     },
     "metadata": {},
     "output_type": "display_data"
    }
   ],
   "source": [
    "# 在测试集上预测\n",
    "test_dl = learn.dls.test_dl(test_ratings)\n",
    "preds, _ = learn.get_preds(dl=test_dl)"
   ]
  },
  {
   "cell_type": "code",
   "execution_count": 21,
   "id": "a3e62a8c-510d-4631-83de-3dd1184e4994",
   "metadata": {},
   "outputs": [],
   "source": [
    "# 计算RMSE和MAE\n",
    "rmse = np.sqrt(mean_squared_error(test_ratings['rating'], preds))\n",
    "mae = mean_absolute_error(test_ratings['rating'], preds)"
   ]
  },
  {
   "cell_type": "code",
   "execution_count": 22,
   "id": "7c24a912-c435-4822-912c-2ce5f4c168cf",
   "metadata": {},
   "outputs": [
    {
     "name": "stdout",
     "output_type": "stream",
     "text": [
      "测试集 RMSE:  7.662767328259027\n",
      "测试集 MAE:  4.63904555709922\n"
     ]
    }
   ],
   "source": [
    "print(\"测试集 RMSE: \", rmse)\n",
    "print(\"测试集 MAE: \", mae)"
   ]
  },
  {
   "cell_type": "code",
   "execution_count": 23,
   "id": "0d789d75-b926-467d-ab5e-3e035119e88a",
   "metadata": {},
   "outputs": [],
   "source": [
    "# 为新用户选择一个未使用的user_id\n",
    "new_user_id = ratings['user_id'].max() + 1"
   ]
  },
  {
   "cell_type": "code",
   "execution_count": 24,
   "id": "045ee26e-ee89-4db3-9672-3e5d3d711f07",
   "metadata": {},
   "outputs": [],
   "source": [
    "# 添加新用户的评分数据\n",
    "new_ratings_df = pd.DataFrame({\n",
    "    'user_id': [new_user_id, new_user_id,new_user_id],\n",
    "        'joke_id': [107,149,34],\n",
    "        'rating': [10,9,2],\n",
    "    })\n",
    "ratings = pd.concat([ratings, new_ratings_df])"
   ]
  },
  {
   "cell_type": "code",
   "execution_count": 25,
   "id": "b243b852-a877-4747-a4af-009ddab71367",
   "metadata": {},
   "outputs": [],
   "source": [
    "# 创建新的数据加载器\n",
    "dls = CollabDataLoaders.from_df(train_ratings,item_name='joke',bs=64,device=device)"
   ]
  },
  {
   "cell_type": "code",
   "execution_count": 26,
   "id": "2e3713d3-39a3-4a7c-92b6-49bccd5c0acf",
   "metadata": {},
   "outputs": [],
   "source": [
    "# 重新训练模型\n",
    "learn = collab_learner(dls,n_factors=50,y_range=(0,5.5))\n",
    "learn.model.to(device)  # 将模型移动到指定设备\n",
    "learn.dls.device = device  # 将数据加载器的设备设为指定设备"
   ]
  },
  {
   "cell_type": "code",
   "execution_count": 27,
   "id": "5417d385-4a72-4428-b987-d1eb21eea194",
   "metadata": {},
   "outputs": [],
   "source": [
    "# 添加早停和保存最佳模型的回调\n",
    "callbacks = [\n",
    "    EarlyStoppingCallback(monitor='valid_loss', patience=3),\n",
    "    SaveModelCallback(monitor='valid_loss', fname='best_model')\n",
    "]"
   ]
  },
  {
   "cell_type": "code",
   "execution_count": 28,
   "id": "c8eeb40d-72c4-48d4-b894-7f3c4fb54329",
   "metadata": {},
   "outputs": [
    {
     "data": {
      "text/html": [
       "\n",
       "<style>\n",
       "    /* Turns off some styling */\n",
       "    progress {\n",
       "        /* gets rid of default border in Firefox and Opera. */\n",
       "        border: none;\n",
       "        /* Needs to be in here for Safari polyfill so background images work as expected. */\n",
       "        background-size: auto;\n",
       "    }\n",
       "    progress:not([value]), progress:not([value])::-webkit-progress-bar {\n",
       "        background: repeating-linear-gradient(45deg, #7e7e7e, #7e7e7e 10px, #5c5c5c 10px, #5c5c5c 20px);\n",
       "    }\n",
       "    .progress-bar-interrupted, .progress-bar-interrupted::-webkit-progress-bar {\n",
       "        background: #F44336;\n",
       "    }\n",
       "</style>\n"
      ],
      "text/plain": [
       "<IPython.core.display.HTML object>"
      ]
     },
     "metadata": {},
     "output_type": "display_data"
    },
    {
     "data": {
      "text/html": [
       "<table border=\"1\" class=\"dataframe\">\n",
       "  <thead>\n",
       "    <tr style=\"text-align: left;\">\n",
       "      <th>epoch</th>\n",
       "      <th>train_loss</th>\n",
       "      <th>valid_loss</th>\n",
       "      <th>time</th>\n",
       "    </tr>\n",
       "  </thead>\n",
       "  <tbody>\n",
       "    <tr>\n",
       "      <td>0</td>\n",
       "      <td>71.501656</td>\n",
       "      <td>70.662727</td>\n",
       "      <td>00:09</td>\n",
       "    </tr>\n",
       "    <tr>\n",
       "      <td>1</td>\n",
       "      <td>68.919853</td>\n",
       "      <td>68.694626</td>\n",
       "      <td>00:09</td>\n",
       "    </tr>\n",
       "    <tr>\n",
       "      <td>2</td>\n",
       "      <td>64.236794</td>\n",
       "      <td>65.416924</td>\n",
       "      <td>00:12</td>\n",
       "    </tr>\n",
       "    <tr>\n",
       "      <td>3</td>\n",
       "      <td>57.505791</td>\n",
       "      <td>62.856037</td>\n",
       "      <td>00:06</td>\n",
       "    </tr>\n",
       "    <tr>\n",
       "      <td>4</td>\n",
       "      <td>66.014122</td>\n",
       "      <td>61.827850</td>\n",
       "      <td>00:05</td>\n",
       "    </tr>\n",
       "    <tr>\n",
       "      <td>5</td>\n",
       "      <td>56.306206</td>\n",
       "      <td>61.399593</td>\n",
       "      <td>00:06</td>\n",
       "    </tr>\n",
       "    <tr>\n",
       "      <td>6</td>\n",
       "      <td>53.449211</td>\n",
       "      <td>61.128025</td>\n",
       "      <td>00:07</td>\n",
       "    </tr>\n",
       "    <tr>\n",
       "      <td>7</td>\n",
       "      <td>60.769733</td>\n",
       "      <td>60.901428</td>\n",
       "      <td>00:07</td>\n",
       "    </tr>\n",
       "    <tr>\n",
       "      <td>8</td>\n",
       "      <td>58.214336</td>\n",
       "      <td>60.846699</td>\n",
       "      <td>00:10</td>\n",
       "    </tr>\n",
       "    <tr>\n",
       "      <td>9</td>\n",
       "      <td>46.733139</td>\n",
       "      <td>60.941441</td>\n",
       "      <td>00:07</td>\n",
       "    </tr>\n",
       "    <tr>\n",
       "      <td>10</td>\n",
       "      <td>56.841328</td>\n",
       "      <td>61.005745</td>\n",
       "      <td>00:07</td>\n",
       "    </tr>\n",
       "    <tr>\n",
       "      <td>11</td>\n",
       "      <td>47.395473</td>\n",
       "      <td>61.038795</td>\n",
       "      <td>00:08</td>\n",
       "    </tr>\n",
       "  </tbody>\n",
       "</table>"
      ],
      "text/plain": [
       "<IPython.core.display.HTML object>"
      ]
     },
     "metadata": {},
     "output_type": "display_data"
    },
    {
     "name": "stdout",
     "output_type": "stream",
     "text": [
      "Better model found at epoch 0 with valid_loss value: 70.66272735595703.\n",
      "Better model found at epoch 1 with valid_loss value: 68.69462585449219.\n",
      "Better model found at epoch 2 with valid_loss value: 65.41692352294922.\n",
      "Better model found at epoch 3 with valid_loss value: 62.85603713989258.\n",
      "Better model found at epoch 4 with valid_loss value: 61.827850341796875.\n",
      "Better model found at epoch 5 with valid_loss value: 61.399593353271484.\n",
      "Better model found at epoch 6 with valid_loss value: 61.12802505493164.\n",
      "Better model found at epoch 7 with valid_loss value: 60.90142822265625.\n",
      "Better model found at epoch 8 with valid_loss value: 60.84669876098633.\n",
      "No improvement since epoch 8: early stopping\n"
     ]
    }
   ],
   "source": [
    "learn.fit_one_cycle(100,5e-3,wd=0.1,cbs=callbacks)"
   ]
  },
  {
   "cell_type": "code",
   "execution_count": 29,
   "id": "4f568442-afb5-4cd5-860c-a3e548544fa8",
   "metadata": {},
   "outputs": [],
   "source": [
    "# 为新用户生成推荐\n",
    "joke_ids = ratings['joke_id'].unique()  # 获取所有电影ID列表\n",
    "joke_ids_new_user = ratings.loc[ratings['user_id'] == new_user_id, 'joke_id']  # 获取新用户评分的电影ID列表\n",
    "joke_ids_to_pred = np.setdiff1d(joke_ids, joke_ids_new_user)  # 获取新用户未评分的电影ID列表"
   ]
  },
  {
   "cell_type": "code",
   "execution_count": 30,
   "id": "25bc5513-14aa-4251-ba2d-7e56e4940bdc",
   "metadata": {},
   "outputs": [],
   "source": [
    "# 预测新用户未评分电影的评分\n",
    "testset_new_user = pd.DataFrame({\n",
    "    'user_id': [new_user_id] * len(joke_ids_to_pred),\n",
    "    'joke_id': joke_ids_to_pred,\n",
    "    'joke':jokes_df.loc[jokes_df['joke_id'].isin(joke_ids_to_pred),'joke']\n",
    "})\n"
   ]
  },
  {
   "cell_type": "code",
   "execution_count": 31,
   "id": "ee93ec55-f89e-4678-b663-80b728590740",
   "metadata": {},
   "outputs": [
    {
     "data": {
      "text/html": [
       "\n",
       "<style>\n",
       "    /* Turns off some styling */\n",
       "    progress {\n",
       "        /* gets rid of default border in Firefox and Opera. */\n",
       "        border: none;\n",
       "        /* Needs to be in here for Safari polyfill so background images work as expected. */\n",
       "        background-size: auto;\n",
       "    }\n",
       "    progress:not([value]), progress:not([value])::-webkit-progress-bar {\n",
       "        background: repeating-linear-gradient(45deg, #7e7e7e, #7e7e7e 10px, #5c5c5c 10px, #5c5c5c 20px);\n",
       "    }\n",
       "    .progress-bar-interrupted, .progress-bar-interrupted::-webkit-progress-bar {\n",
       "        background: #F44336;\n",
       "    }\n",
       "</style>\n"
      ],
      "text/plain": [
       "<IPython.core.display.HTML object>"
      ]
     },
     "metadata": {},
     "output_type": "display_data"
    },
    {
     "data": {
      "text/html": [],
      "text/plain": [
       "<IPython.core.display.HTML object>"
      ]
     },
     "metadata": {},
     "output_type": "display_data"
    }
   ],
   "source": [
    "test_dl = learn.dls.test_dl(testset_new_user)\n",
    "preds, _ = learn.get_preds(dl=test_dl)"
   ]
  },
  {
   "cell_type": "code",
   "execution_count": 32,
   "id": "a95445f9-afe9-4880-982c-82de755ca143",
   "metadata": {},
   "outputs": [],
   "source": [
    "# 将预测结果添加到testset_new_user DataFrame中\n",
    "testset_new_user['rating'] = preds.numpy()"
   ]
  },
  {
   "cell_type": "code",
   "execution_count": 33,
   "id": "e76f8f4a-c788-4ae9-8d45-1ef21637d54b",
   "metadata": {},
   "outputs": [],
   "source": [
    "# 获取评分最高的前10部电影\n",
    "top_10_jokes = testset_new_user.nlargest(10, 'rating')"
   ]
  },
  {
   "cell_type": "code",
   "execution_count": 34,
   "id": "80f409ee-f6d1-4879-9009-753ce47cef2c",
   "metadata": {},
   "outputs": [
    {
     "name": "stdout",
     "output_type": "stream",
     "text": [
      "新用户的前10部笑话推荐：\n",
      "                                                                                                                                                                                                                                                                                                                                                                                                                                                                                                                                                                                                                        joke  \\\n",
      "1                                                                                                                                                                                                                                                                                                                                                                                                                                                                                                                                    Q. What's 200 feet long and has 4 teeth?   A. The front row at a Willie Nelson Concert.   \n",
      "109                                   A new business was opening and one of the owner's friends wanted to send him flowers for the occasion. They arrived at the new business site and the owner read the card, \"Rest in Peace.\" The owner was angry and called the florist to complain. After he had told the florist of the obvious mistake and how angry he was, the florist replied, \"Sir, I'm really sorry for the mistake, but rather than getting angry, you should imagine this: somewhere there is a funeral taking place today, and they have flowers with a note saying, 'Congratulations on your new location!'\"   \n",
      "115                                                                                    A man joins a big corporate empire as a trainee. On his very first day of work, he dials the pantry and shouts into the phone: \"Get me a coffee, quickly!\" The voice from the other side responds, \"You fool, you've dialed the wrong extension! Do you know who you're talking to, dumbo?\" \"No,\" replied the trainee.\"It's the CEO of the company, you fool!\" The trainee shouts back, \"And do YOU know who YOU are talking to, you fool?!\" \"No.\" replied the CEO indignantly. \"Good!\" replied the trainee, and puts down the phone.   \n",
      "135                                                                                                                                  Deep within a forest, a little turtle began to climb a tree. After hours of effort, he reached the top, jumped into the air waving his front legs and crashed to the ground. After recovering, he slowly climbed the tree again, jumped, and fell to the ground. The turtle tried again and again, while a couple of birds sitting on a branch watched his sad efforts. Finally, the female bird turned to her mate. \"Dear,\" she chirped, \"I think it's time to tell him he's adopted.\"   \n",
      "127  A group of girlfriends is on vacation when they see a 5-story hotel with a sign that reads: \"For Women Only.\" Since they are without their boyfriends and husbands, they decide to go in. The bouncer, a very attractive guy, explains to them how it works. \"We have 5 floors. Go up floor by floor, and once you find what you are looking for, you can stay there. It's easy to decide since each floor has a sign telling you what's inside.\" So they start going up and on the first floor the sign reads: \"All the men on this floor are short and plain.\" The friends laugh and without hesitation move on to...   \n",
      "112  Sherlock Holmes and Dr. Watson go on a camping trip, set up their tent, and fall asleep. Some hours later, Holmes wakes his faithful friend. \"Watson, look up at the sky and tell me what you see.\" Watson replies, \"I see millions of stars.\" \"What does that tell you?\" Watson ponders for a minute. \"Astronomically speaking, it tells me that there are millions of galaxies and potentially billions of planets. Astrologically, it tells me that Saturn is in Leo. Timewise, it appears to be approximately a quarter past three. Theologically, it's evident the Lord is all-powerful and we are small and in...   \n",
      "118                                        Judy was having trouble with her computer, so she called Tony, the computer guy, over to her desk. Tony clicked a couple buttons and solved the problem. As he was walking away, Judy called after him, \"So, what was wrong?\" And he replied, \"It was an ID Ten T Error.\" A puzzled expression ran riot over Judy's face. \"An ID Ten T Error? What's that...in case I need to fix it again?\" He gave her a grin...\"Haven't you ever heard of an ID Ten T Error before?\" \"No,\" replied Judy. \"Write it down,\" he said, \"and I think you'll figure it out.\"(She wrote...) I D 1 0 T   \n",
      "50                                                                                                                                                                                                                                                                                                                                                                                                                                                                                                                 Q: What do Monica Lewinsky and Bob Dole have in common? A: They were both upset when Bill finished first.   \n",
      "63   Two Rednecks were seated at the end of a bar when a young lady seated a few stools up began to choke on a piece of hamburger.  She was turning blue and obviously in serious respiratory distress. One said to the other, \"That gal there is having a bad time!\"  The other agreed and said \"Think we should go help?\"  \"You bet,\" said the first,and with that, he ran over and said, \"Can you breathe??\"  She shook her head no.  He said, \"Can you speak??\"  She again shook her head no. With that, he pulled up her skirt and licked her on the butt. She was so shocked, she coughed up the obstruction and be...   \n",
      "64   A lawyer opened the door of his BMW, when suddenly a car came along and hit the door, ripping it off completely.  When the police arrived at the scene, the lawyer was complaining bitterly about the damage to his precious BMW.   \"Officer, look what they've done to my Beeeeemer!!!\", he whined.   \"You lawyers are so materialistic, you make me sick!!!\"  retorted the officer.  \"You're so worried about your stupid BMW, that you didn't even notice that your left arm was ripped off!!!\"   \"Oh my gaaaad...\", replied the lawyer, finally noticing the bloody left shoulder where his arm once was.  \"Wher...   \n",
      "\n",
      "       rating  \n",
      "1    4.937362  \n",
      "109  3.316721  \n",
      "115  3.131755  \n",
      "135  3.089388  \n",
      "127  3.068947  \n",
      "112  3.065130  \n",
      "118  3.041916  \n",
      "50   2.985973  \n",
      "63   2.982910  \n",
      "64   2.940921  \n"
     ]
    }
   ],
   "source": [
    "print(\"新用户的前10部笑话推荐：\")\n",
    "print(top_10_jokes[['joke','rating']])"
   ]
  },
  {
   "cell_type": "code",
   "execution_count": 35,
   "id": "542951ca-410e-4e3f-a992-9642b3d1f56d",
   "metadata": {},
   "outputs": [],
   "source": [
    "# 导出训练后的模型\n",
    "from fastai.collab import *"
   ]
  },
  {
   "cell_type": "code",
   "execution_count": 37,
   "id": "c5198805-d285-41e3-b293-22ada835f4ea",
   "metadata": {},
   "outputs": [
    {
     "data": {
      "text/plain": [
       "Path('models/best_model.pth')"
      ]
     },
     "execution_count": 37,
     "metadata": {},
     "output_type": "execute_result"
    }
   ],
   "source": [
    "learn.save('best_model')"
   ]
  },
  {
   "cell_type": "code",
   "execution_count": 38,
   "id": "4fd87cbb-51af-4a06-991f-005a4f9ea1ed",
   "metadata": {},
   "outputs": [
    {
     "name": "stdout",
     "output_type": "stream",
     "text": [
      "Looking in indexes: https://pypi.tuna.tsinghua.edu.cn/simple\n",
      "Requirement already satisfied: streamlit in /environment/miniconda3/lib/python3.10/site-packages (1.35.0)\n",
      "Requirement already satisfied: altair<6,>=4.0 in /environment/miniconda3/lib/python3.10/site-packages (from streamlit) (5.3.0)\n",
      "Requirement already satisfied: blinker<2,>=1.0.0 in /environment/miniconda3/lib/python3.10/site-packages (from streamlit) (1.8.2)\n",
      "Requirement already satisfied: cachetools<6,>=4.0 in /environment/miniconda3/lib/python3.10/site-packages (from streamlit) (5.3.1)\n",
      "Requirement already satisfied: click<9,>=7.0 in /environment/miniconda3/lib/python3.10/site-packages (from streamlit) (8.1.7)\n",
      "Requirement already satisfied: numpy<2,>=1.19.3 in /environment/miniconda3/lib/python3.10/site-packages (from streamlit) (1.24.1)\n",
      "Requirement already satisfied: packaging<25,>=16.8 in /environment/miniconda3/lib/python3.10/site-packages (from streamlit) (23.0)\n",
      "Requirement already satisfied: pandas<3,>=1.3.0 in /environment/miniconda3/lib/python3.10/site-packages (from streamlit) (2.1.2)\n",
      "Requirement already satisfied: pillow<11,>=7.1.0 in /environment/miniconda3/lib/python3.10/site-packages (from streamlit) (9.3.0)\n",
      "Requirement already satisfied: protobuf<5,>=3.20 in /environment/miniconda3/lib/python3.10/site-packages (from streamlit) (4.23.4)\n",
      "Requirement already satisfied: pyarrow>=7.0 in /environment/miniconda3/lib/python3.10/site-packages (from streamlit) (16.1.0)\n",
      "Requirement already satisfied: requests<3,>=2.27 in /environment/miniconda3/lib/python3.10/site-packages (from streamlit) (2.31.0)\n",
      "Requirement already satisfied: rich<14,>=10.14.0 in /environment/miniconda3/lib/python3.10/site-packages (from streamlit) (13.7.1)\n",
      "Requirement already satisfied: tenacity<9,>=8.1.0 in /environment/miniconda3/lib/python3.10/site-packages (from streamlit) (8.3.0)\n",
      "Requirement already satisfied: toml<2,>=0.10.1 in /environment/miniconda3/lib/python3.10/site-packages (from streamlit) (0.10.2)\n",
      "Requirement already satisfied: typing-extensions<5,>=4.3.0 in /environment/miniconda3/lib/python3.10/site-packages (from streamlit) (4.8.0)\n",
      "Requirement already satisfied: gitpython!=3.1.19,<4,>=3.0.7 in /environment/miniconda3/lib/python3.10/site-packages (from streamlit) (3.1.43)\n",
      "Requirement already satisfied: pydeck<1,>=0.8.0b4 in /environment/miniconda3/lib/python3.10/site-packages (from streamlit) (0.9.1)\n",
      "Requirement already satisfied: tornado<7,>=6.0.3 in /environment/miniconda3/lib/python3.10/site-packages (from streamlit) (6.3.2)\n",
      "Requirement already satisfied: watchdog>=2.1.5 in /environment/miniconda3/lib/python3.10/site-packages (from streamlit) (4.0.1)\n",
      "Requirement already satisfied: jinja2 in /environment/miniconda3/lib/python3.10/site-packages (from altair<6,>=4.0->streamlit) (3.1.2)\n",
      "Requirement already satisfied: jsonschema>=3.0 in /environment/miniconda3/lib/python3.10/site-packages (from altair<6,>=4.0->streamlit) (4.18.6)\n",
      "Requirement already satisfied: toolz in /environment/miniconda3/lib/python3.10/site-packages (from altair<6,>=4.0->streamlit) (0.12.0)\n",
      "Requirement already satisfied: gitdb<5,>=4.0.1 in /environment/miniconda3/lib/python3.10/site-packages (from gitpython!=3.1.19,<4,>=3.0.7->streamlit) (4.0.11)\n",
      "Requirement already satisfied: python-dateutil>=2.8.2 in /environment/miniconda3/lib/python3.10/site-packages (from pandas<3,>=1.3.0->streamlit) (2.8.2)\n",
      "Requirement already satisfied: pytz>=2020.1 in /environment/miniconda3/lib/python3.10/site-packages (from pandas<3,>=1.3.0->streamlit) (2023.3.post1)\n",
      "Requirement already satisfied: tzdata>=2022.1 in /environment/miniconda3/lib/python3.10/site-packages (from pandas<3,>=1.3.0->streamlit) (2023.3)\n",
      "Requirement already satisfied: charset-normalizer<4,>=2 in /environment/miniconda3/lib/python3.10/site-packages (from requests<3,>=2.27->streamlit) (2.0.4)\n",
      "Requirement already satisfied: idna<4,>=2.5 in /environment/miniconda3/lib/python3.10/site-packages (from requests<3,>=2.27->streamlit) (2.10)\n",
      "Requirement already satisfied: urllib3<3,>=1.21.1 in /environment/miniconda3/lib/python3.10/site-packages (from requests<3,>=2.27->streamlit) (1.25.11)\n",
      "Requirement already satisfied: certifi>=2017.4.17 in /environment/miniconda3/lib/python3.10/site-packages (from requests<3,>=2.27->streamlit) (2023.7.22)\n",
      "Requirement already satisfied: markdown-it-py>=2.2.0 in /environment/miniconda3/lib/python3.10/site-packages (from rich<14,>=10.14.0->streamlit) (3.0.0)\n",
      "Requirement already satisfied: pygments<3.0.0,>=2.13.0 in /environment/miniconda3/lib/python3.10/site-packages (from rich<14,>=10.14.0->streamlit) (2.15.1)\n",
      "Requirement already satisfied: smmap<6,>=3.0.1 in /environment/miniconda3/lib/python3.10/site-packages (from gitdb<5,>=4.0.1->gitpython!=3.1.19,<4,>=3.0.7->streamlit) (5.0.1)\n",
      "Requirement already satisfied: MarkupSafe>=2.0 in /environment/miniconda3/lib/python3.10/site-packages (from jinja2->altair<6,>=4.0->streamlit) (2.1.2)\n",
      "Requirement already satisfied: attrs>=22.2.0 in /environment/miniconda3/lib/python3.10/site-packages (from jsonschema>=3.0->altair<6,>=4.0->streamlit) (23.1.0)\n",
      "Requirement already satisfied: jsonschema-specifications>=2023.03.6 in /environment/miniconda3/lib/python3.10/site-packages (from jsonschema>=3.0->altair<6,>=4.0->streamlit) (2023.7.1)\n",
      "Requirement already satisfied: referencing>=0.28.4 in /environment/miniconda3/lib/python3.10/site-packages (from jsonschema>=3.0->altair<6,>=4.0->streamlit) (0.30.0)\n",
      "Requirement already satisfied: rpds-py>=0.7.1 in /environment/miniconda3/lib/python3.10/site-packages (from jsonschema>=3.0->altair<6,>=4.0->streamlit) (0.9.2)\n",
      "Requirement already satisfied: mdurl~=0.1 in /environment/miniconda3/lib/python3.10/site-packages (from markdown-it-py>=2.2.0->rich<14,>=10.14.0->streamlit) (0.1.2)\n",
      "Requirement already satisfied: six>=1.5 in /environment/miniconda3/lib/python3.10/site-packages (from python-dateutil>=2.8.2->pandas<3,>=1.3.0->streamlit) (1.16.0)\n",
      "Note: you may need to restart the kernel to use updated packages.\n"
     ]
    }
   ],
   "source": [
    "pip install streamlit"
   ]
  },
  {
   "cell_type": "code",
   "execution_count": 39,
   "id": "2fa0d725-c52b-4743-9f41-1ad5c0645f93",
   "metadata": {},
   "outputs": [],
   "source": [
    "import streamlit as st\n",
    "import random\n",
    "import pandas as pd"
   ]
  },
  {
   "cell_type": "code",
   "execution_count": 40,
   "id": "4ced354d-a2e3-464c-9151-693ecb4149ed",
   "metadata": {},
   "outputs": [],
   "source": [
    "jokes_df = pd.DataFrame({\n",
    "    \"joke_id\": [0, 1, 2, 3, 4],  # 笑话的唯一标识符\n",
    "    \"joke\": [\n",
    "        \"Why did the chicken cross the road? To get to the other side.\",\n",
    "        \"I told my wife she was drawing her eyebrows too high. She looked surprised.\",\n",
    "        \"I would tell you a construction joke, but I’m still working on it.\",\n",
    "        \"I just Argued with my punctuation teacher. I’m not sure if I made a point.\",\n",
    "        \"Did you hear about the guy who invented Lifesavers? They say he made a mint.\"\n",
    "    ]\n",
    "})"
   ]
  },
  {
   "cell_type": "code",
   "execution_count": 42,
   "id": "b0e9123e-d4ce-4fd3-8456-45b41be80e43",
   "metadata": {},
   "outputs": [],
   "source": [
    "# 设置评分的选项\n",
    "ratings_options = [1, 2, 3, 4, 5]"
   ]
  },
  {
   "cell_type": "code",
   "execution_count": 43,
   "id": "854290cf-a1bb-4fdb-9fe0-55b68d618a31",
   "metadata": {},
   "outputs": [],
   "source": [
    "# 页面标题\n",
    "st.title(\"笑话评分应用\")\n",
    "# 随机选择3个笑话显示在界面上\n",
    "selected_jokes = jokes_df.sample(3)"
   ]
  },
  {
   "cell_type": "code",
   "execution_count": 46,
   "id": "4b39fb89-c9f0-4ef6-9df3-75190b1dfcea",
   "metadata": {},
   "outputs": [],
   "source": [
    "# 为每个笑话创建一个部分，并添加评分滑块\n",
    "for i, joke in enumerate(joke):\n",
    "    st.header(f\"笑话 {i+1}\")\n",
    "    st.write(joke)\n",
    "    # 创建一个评分滑块\n",
    "    rating = st.slider(f\"给笑话 {i+1} 评分\", 0, 5, 0)  # 评分范围从0到5\n",
    "    st.write(f\"你的评分: {rating}\")\n",
    "# 提交按钮\n",
    "submit_button = st.button(\"提交评分\")\n",
    "if submit_button:\n",
    "    st.write(\"感谢您的评分!\")"
   ]
  },
  {
   "cell_type": "code",
   "execution_count": 47,
   "id": "165bf8d8-9615-45f5-8442-dc4a7ebf6c91",
   "metadata": {},
   "outputs": [],
   "source": [
    "# 定义笑话数据\n",
    "jokes_db = [\n",
    "    {\n",
    "        \"joke\": \"This couple had an excellent relationship going until one day he came home from work to find his girlfriend packing. He asked her why she was leaving him and she told him that she had heard awful things about him. \\\"What could they possibly have said to make you move out?\\\" \\\"They told me that you were a pedophile.\\\" He replied, \\\"That's an awfully big word for a ten year old.\\\"\",\n",
    "        \"rating\": 0\n",
    "    },\n",
    "    {\n",
    "        \"joke\": \"Just a thought .. Before criticizing someone, walk a mile in their shoes. Then when you do criticize them, you will be a mile away and have their shoes !\",\n",
    "        \"rating\": 5\n",
    "    },\n",
    "    {\n",
    "        \"joke\": \"An engineer dies and reports to the pearly gates. St. Peter checks his dossier and says, \\\"Ah, you're an engineer--you're in the wrong place.\\\" So, the engineer reports to the gates of hell and is let in. Pretty soon, the engineer gets dissatisfied with the level of comfort in hell, and starts designing and building improvements. After awhile, they've got air conditioning, flush toilets and escalators, and the engineer is a pretty popular guy. One day, God calls Satan up on the telephone and says with a sneer, \\\"So, how's it going down there in hell?\\\" Satan replies, \\\"Hey, things are going great. We've got air conditioning, flush toilets and escalators, and there's no telling what this engineer is going to come up with next.\\\" God replies, \\\"What?? You've got an engineer? That's a mistake--he should never have gotten down there; send him up here.\\\" Satan says, \\\"No way\\\" I like having an engineer on the staff, and I'm keeping him\\\" God says, \\\"Send him back up here or I'll sue\\\" Satan laughs uproariously and answers, \\\"Yeah, right. And just where are You going to get a lawyer?\\\"\",\n",
    "        \"rating\": 0\n",
    "    }\n",
    "]\n",
    "\n",
    "# 初始用户评分\n",
    "initial_ratings = {\n",
    "    \"jokes_db[0]['joke']\": jokes_db[0][\"rating\"],\n",
    "    \"jokes_db[1]['joke']\": jokes_db[1][\"rating\"],\n",
    "    \"jokes_db[2]['joke']\": jokes_db[2][\"rating\"]\n",
    "}\n",
    "\n",
    "\n",
    "def recommend_jokes(ratings):\n",
    "    # 假设我们根据笑话的初始评分来推荐\n",
    "    # 选择评分为5的笑话进行推荐\n",
    "    recommended_jokes = [joke for joke in jokes_db if joke[\"rating\"] == 5]\n",
    "    return recommended_jokes\n",
    "\n",
    "# 页面标题\n",
    "st.title(\"笑话评分与推荐\")\n",
    "\n",
    "# 显示并获取初始笑话的评分\n",
    "for joke in jokes_db:\n",
    "    st.write(joke[\"joke\"])\n",
    "    rating = st.slider(f\"Rate this joke\", 0, 5, initial_ratings.get(joke[\"joke\"], 0))\n",
    "    st.write(f\"Your rating: {rating}\")\n",
    "\n",
    "# 根据评分推荐笑话\n",
    "recommended_jokes = recommend_jokes(initial_ratings)\n",
    "\n",
    "# 显示推荐笑话\n",
    "if recommended_jokes:\n",
    "    st.header(\"We recommend the following jokes based on your ratings:\")\n",
    "    for joke in recommended_jokes:\n",
    "        st.write(joke[\"joke\"])\n",
    "else:\n",
    "    st.write(\"No jokes to recommend based on your ratings.\")\n",
    "\n",
    "# 提供一个提交按钮\n",
    "submit_button = st.button(\"Submit Ratings\")\n",
    "\n",
    "if submit_button:\n",
    "    st.write(\"Thank you for your ratings!\")"
   ]
  },
  {
   "cell_type": "code",
   "execution_count": null,
   "id": "f470daf9-46c6-491e-b112-4fa22d3e35ba",
   "metadata": {},
   "outputs": [],
   "source": []
  },
  {
   "cell_type": "code",
   "execution_count": null,
   "id": "186d0308-a280-4378-866e-f27838078ab4",
   "metadata": {},
   "outputs": [],
   "source": []
  }
 ],
 "metadata": {
  "kernelspec": {
   "display_name": "Python 3 (ipykernel)",
   "language": "python",
   "name": "python3"
  },
  "language_info": {
   "codemirror_mode": {
    "name": "ipython",
    "version": 3
   },
   "file_extension": ".py",
   "mimetype": "text/x-python",
   "name": "python",
   "nbconvert_exporter": "python",
   "pygments_lexer": "ipython3",
   "version": "3.10.12"
  }
 },
 "nbformat": 4,
 "nbformat_minor": 5
}
